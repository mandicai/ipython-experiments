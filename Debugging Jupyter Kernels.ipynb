{
 "cells": [
  {
   "cell_type": "code",
   "execution_count": 1,
   "metadata": {},
   "outputs": [
    {
     "name": "stdout",
     "output_type": "stream",
     "text": [
      "3.5.4 (v3.5.4:3f56838976, Aug  7 2017, 12:56:33) \n",
      "[GCC 4.2.1 (Apple Inc. build 5666) (dot 3)]\n",
      "/Library/Frameworks/Python.framework/Versions/3.5/bin/python3.5\n",
      "['', '/Library/Frameworks/Python.framework/Versions/3.5/lib/python35.zip', '/Library/Frameworks/Python.framework/Versions/3.5/lib/python3.5', '/Library/Frameworks/Python.framework/Versions/3.5/lib/python3.5/plat-darwin', '/Library/Frameworks/Python.framework/Versions/3.5/lib/python3.5/lib-dynload', '/Library/Frameworks/Python.framework/Versions/3.5/lib/python3.5/site-packages', '/Library/Frameworks/Python.framework/Versions/3.5/lib/python3.5/site-packages/IPython/extensions', '/Users/mandicai/.ipython']\n"
     ]
    }
   ],
   "source": [
    "import sys\n",
    "\n",
    "# See kernel version\n",
    "print(sys.version)\n",
    "\n",
    "# See jupyter executable\n",
    "print(sys.executable)\n",
    "\n",
    "# See path that packages are looked for in\n",
    "print(sys.path)\n",
    "\n",
    "# If you don't see your pacakge in any of the paths from sys.path\n",
    "# Do pip install <package> -t /Library/Frameworks/Python.framework/Versions/3.5/lib/python3.5/site-packages"
   ]
  },
  {
   "cell_type": "code",
   "execution_count": 3,
   "metadata": {},
   "outputs": [
    {
     "name": "stdout",
     "output_type": "stream",
     "text": [
      "xlrd 1.1.0\n",
      "widgetsnbextension 2.0.0\n",
      "webencodings 0.5.1\n",
      "wcwidth 0.1.7\n",
      "virtualenv 15.1.0\n",
      "traitlets 4.3.2\n",
      "tornado 4.5.1\n",
      "testpath 0.3.1\n",
      "terminado 0.6\n",
      "six 1.10.0\n",
      "simplejson 3.11.1\n",
      "simplegeneric 0.8.1\n",
      "setuptools 28.8.0\n",
      "scipy 1.0.0\n",
      "scikit-image 0.13.0\n",
      "s3transfer 0.1.12\n",
      "qtconsole 4.3.1\n",
      "pyzmq 16.0.2\n",
      "PyWavelets 0.5.2\n",
      "pytz 2017.2\n",
      "python-dateutil 2.6.1\n",
      "pyparsing 2.2.0\n",
      "Pygments 2.2.0\n",
      "ptyprocess 0.5.2\n",
      "prompt-toolkit 1.0.15\n",
      "pip 9.0.1\n",
      "Pillow 5.0.0\n",
      "pickleshare 0.7.4\n",
      "pexpect 4.2.1\n",
      "pandocfilters 1.4.2\n",
      "pandas 0.21.1\n",
      "numpy 1.13.3\n",
      "notebook 5.0.0\n",
      "networkx 2.0\n",
      "nbformat 4.3.0\n",
      "nbconvert 5.2.1\n",
      "mistune 0.7.4\n",
      "matplotlib 2.1.1\n",
      "MarkupSafe 1.0\n",
      "jupyter 1.0.0\n",
      "jupyter-core 4.3.0\n",
      "jupyter-console 5.1.0\n",
      "jupyter-client 5.1.0\n",
      "jsonschema 2.6.0\n",
      "jmespath 0.9.3\n",
      "Jinja2 2.9.6\n",
      "jedi 0.10.2\n",
      "isodate 0.5.4\n",
      "ipywidgets 6.0.0\n",
      "ipython 6.1.0\n",
      "ipython-genutils 0.2.0\n",
      "ipykernel 4.6.1\n",
      "html5lib 0.999999999\n",
      "homebrew 0.0.19\n",
      "entrypoints 0.2.3\n",
      "docutils 0.14\n",
      "decorator 4.1.2\n",
      "cycler 0.10.0\n",
      "botocore 1.5.95\n",
      "boto3 1.4.4\n",
      "bleach 2.0.0\n",
      "appnope 0.1.0\n"
     ]
    }
   ],
   "source": [
    "# See list of available packages\n",
    "import pip\n",
    "for i in pip.get_installed_distributions(local_only=True):\n",
    "    print(i)"
   ]
  },
  {
   "cell_type": "code",
   "execution_count": 4,
   "metadata": {},
   "outputs": [
    {
     "name": "stdout",
     "output_type": "stream",
     "text": [
      "Solving environment: done\n",
      "\n",
      "# All requested packages already installed.\n",
      "\n"
     ]
    }
   ],
   "source": [
    "# Install a conda package in the current Jupyter kernel\n",
    "# https://jakevdp.github.io/blog/2017/12/05/installing-python-packages-from-jupyter/\n",
    "# This doesn't always work because conda installs them to a place that's different from the jupyter notebook environment\n",
    "\n",
    "import sys\n",
    "!conda install --yes --prefix {sys.prefix} -c bioconda fcsparser"
   ]
  },
  {
   "cell_type": "code",
   "execution_count": 5,
   "metadata": {},
   "outputs": [
    {
     "name": "stdout",
     "output_type": "stream",
     "text": [
      "/Library/Frameworks/Python.framework/Versions/3.5/bin:/Users/mandicai/miniconda3/bin:/Users/mandicai/.nvm/versions/node/v8.11.4/bin:/Library/Frameworks/Python.framework/Versions/3.5/bin:/usr/local/bin:/usr/bin:/bin:/usr/sbin:/sbin:/opt/X11/bin:/usr/local/share/dotnet:~/.dotnet/tools:/Library/Frameworks/Mono.framework/Versions/Current/Commands:/Applications/Xamarin Workbooks.app/Contents/SharedSupport/path-bin\r\n"
     ]
    }
   ],
   "source": [
    "# Prder of paths that it will look for packages in\n",
    "# Similar to print(sys.path)\n",
    "!echo $PATH"
   ]
  },
  {
   "cell_type": "code",
   "execution_count": 12,
   "metadata": {},
   "outputs": [
    {
     "name": "stdout",
     "output_type": "stream",
     "text": [
      "python is /Library/Frameworks/Python.framework/Versions/3.5/bin/python\r\n"
     ]
    }
   ],
   "source": [
    "!type python"
   ]
  },
  {
   "cell_type": "code",
   "execution_count": 13,
   "metadata": {},
   "outputs": [
    {
     "name": "stdout",
     "output_type": "stream",
     "text": [
      "pip is /Library/Frameworks/Python.framework/Versions/3.5/bin/pip\r\n"
     ]
    }
   ],
   "source": [
    "!type pip"
   ]
  },
  {
   "cell_type": "code",
   "execution_count": 14,
   "metadata": {},
   "outputs": [
    {
     "name": "stdout",
     "output_type": "stream",
     "text": [
      "conda is /Users/mandicai/miniconda3/bin/conda\r\n"
     ]
    }
   ],
   "source": [
    "!type conda"
   ]
  },
  {
   "cell_type": "code",
   "execution_count": 6,
   "metadata": {},
   "outputs": [
    {
     "name": "stdout",
     "output_type": "stream",
     "text": [
      "Available kernels:\r\n",
      "  python2    /Users/mandicai/Library/Jupyter/kernels/python2\r\n",
      "  python3    /Users/mandicai/Library/Jupyter/kernels/python3\r\n"
     ]
    }
   ],
   "source": [
    "# Print available kernels\n",
    "!jupyter kernelspec list"
   ]
  }
 ],
 "metadata": {
  "kernelspec": {
   "display_name": "Python 3",
   "language": "python",
   "name": "python3"
  },
  "language_info": {
   "codemirror_mode": {
    "name": "ipython",
    "version": 3
   },
   "file_extension": ".py",
   "mimetype": "text/x-python",
   "name": "python",
   "nbconvert_exporter": "python",
   "pygments_lexer": "ipython3",
   "version": "3.5.4"
  }
 },
 "nbformat": 4,
 "nbformat_minor": 2
}
