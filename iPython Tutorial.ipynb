{
 "cells": [
  {
   "cell_type": "code",
   "execution_count": 1,
   "metadata": {
    "collapsed": true
   },
   "outputs": [],
   "source": [
    "import os"
   ]
  },
  {
   "cell_type": "code",
   "execution_count": 2,
   "metadata": {
    "collapsed": true
   },
   "outputs": [],
   "source": [
    "from glob import glob"
   ]
  },
  {
   "cell_type": "code",
   "execution_count": 2,
   "metadata": {},
   "outputs": [],
   "source": [
    "import re\n",
    "import csv\n",
    "import isodate\n",
    "import simplejson as json\n",
    "import numpy as np"
   ]
  },
  {
   "cell_type": "code",
   "execution_count": 3,
   "metadata": {},
   "outputs": [
    {
     "name": "stderr",
     "output_type": "stream",
     "text": [
      "/Users/Mandi/anaconda/lib/python3.6/site-packages/matplotlib/font_manager.py:280: UserWarning: Matplotlib is building the font cache using fc-list. This may take a moment.\n",
      "  'Matplotlib is building the font cache using fc-list. '\n"
     ]
    }
   ],
   "source": [
    "from matplotlib import pyplot as plt # import submodules (not the while module) + also alias\n",
    "# cell magic that renders gfx in the notebook. Try %matplotlib notebook\n",
    "%matplotlib inline\n",
    "from itertools import groupby"
   ]
  },
  {
   "cell_type": "code",
   "execution_count": 21,
   "metadata": {
    "collapsed": true
   },
   "outputs": [],
   "source": [
    "alias say echo \"I want you to say %l\""
   ]
  },
  {
   "cell_type": "code",
   "execution_count": 22,
   "metadata": {},
   "outputs": [],
   "source": [
    "alias saytwice echo hi %s hello %s"
   ]
  },
  {
   "cell_type": "code",
   "execution_count": 23,
   "metadata": {},
   "outputs": [
    {
     "name": "stdout",
     "output_type": "stream",
     "text": [
      "hi boop hello beep\r\n"
     ]
    }
   ],
   "source": [
    "saytwice boop beep"
   ]
  },
  {
   "cell_type": "code",
   "execution_count": 24,
   "metadata": {
    "collapsed": true
   },
   "outputs": [],
   "source": [
    "alias show echo"
   ]
  },
  {
   "cell_type": "code",
   "execution_count": 25,
   "metadata": {
    "collapsed": true
   },
   "outputs": [],
   "source": [
    "STRING='A Python string'"
   ]
  },
  {
   "cell_type": "code",
   "execution_count": 27,
   "metadata": {},
   "outputs": [
    {
     "name": "stdout",
     "output_type": "stream",
     "text": [
      "A Python string\r\n"
     ]
    }
   ],
   "source": [
    "show $STRING"
   ]
  },
  {
   "cell_type": "code",
   "execution_count": 28,
   "metadata": {},
   "outputs": [
    {
     "name": "stdout",
     "output_type": "stream",
     "text": [
      "/Users/Mandi/anaconda/bin:/Users/Mandi/anaconda/bin:/usr/local/bin:/Users/Mandi/Documents/google-cloud-sdk/bin:/usr/local/bin:/usr/bin:/bin:/usr/sbin:/sbin:/opt/X11/bin\r\n"
     ]
    }
   ],
   "source": [
    "show $$PATH"
   ]
  },
  {
   "cell_type": "code",
   "execution_count": 30,
   "metadata": {},
   "outputs": [
    {
     "name": "stdout",
     "output_type": "stream",
     "text": [
      "Total number of aliases: 16\n"
     ]
    },
    {
     "data": {
      "text/plain": [
       "[('bracket', 'echo \"I want you to say %l\"'),\n",
       " ('cat', 'cat'),\n",
       " ('cp', 'cp'),\n",
       " ('ldir', 'ls -F -G -l %l | grep /$'),\n",
       " ('lf', 'ls -F -l -G %l | grep ^-'),\n",
       " ('lk', 'ls -F -l -G %l | grep ^l'),\n",
       " ('ll', 'ls -F -l -G'),\n",
       " ('ls', 'ls -F -G'),\n",
       " ('lx', 'ls -F -l -G %l | grep ^-..x'),\n",
       " ('mkdir', 'mkdir'),\n",
       " ('mv', 'mv'),\n",
       " ('rm', 'rm'),\n",
       " ('rmdir', 'rmdir'),\n",
       " ('say', 'echo \"I want you to say %l\"'),\n",
       " ('saytwice', 'echo hi %s hello %s'),\n",
       " ('show', 'echo')]"
      ]
     },
     "execution_count": 30,
     "metadata": {},
     "output_type": "execute_result"
    }
   ],
   "source": [
    "%alias"
   ]
  },
  {
   "cell_type": "code",
   "execution_count": 31,
   "metadata": {
    "collapsed": true
   },
   "outputs": [],
   "source": [
    "## Print the type\n",
    "def pto(s):\n",
    "    print(type(s))"
   ]
  },
  {
   "cell_type": "code",
   "execution_count": 32,
   "metadata": {},
   "outputs": [
    {
     "name": "stdout",
     "output_type": "stream",
     "text": [
      "<class 'str'>\n"
     ]
    }
   ],
   "source": [
    "pto('hello')"
   ]
  },
  {
   "cell_type": "code",
   "execution_count": 70,
   "metadata": {},
   "outputs": [
    {
     "name": "stdout",
     "output_type": "stream",
     "text": [
      "<class 'list'>\n"
     ]
    },
    {
     "data": {
      "text/plain": [
       "[('.CSV', <itertools._grouper at 0x109c02f60>),\n",
       " ('.XML', <itertools._grouper at 0x109c02ef0>),\n",
       " ('.csv', <itertools._grouper at 0x109c02e10>),\n",
       " ('.run', <itertools._grouper at 0x109c02cc0>),\n",
       " ('.txt', <itertools._grouper at 0x109c02be0>),\n",
       " ('.xml', <itertools._grouper at 0x109c02b70>)]"
      ]
     },
     "execution_count": 70,
     "metadata": {},
     "output_type": "execute_result"
    }
   ],
   "source": [
    "import os \n",
    "\n",
    "DATADIRECTORY = 'Reports_Run_3299'\n",
    "DATAFILE = os.path.join(DATADIRECTORY, 'EchoComLog.txt')\n",
    "\n",
    "list_of_files = os.listdir(DATADIRECTORY)\n",
    "pto(list_of_files)\n",
    "getext = lambda s:os.path.splitext(s)[1] # lambda are anonynmous functions that you can define on the fly and forget about when you're done\n",
    "list_of_files.sort(key=getext) # Key = (some function) calls a function to be applied to the elements before they are sorted\n",
    "                               # Getext is the function that splits the text \n",
    "list(groupby(list_of_files, getext)) # Groupby allows you to group data into buckets based on a variable"
   ]
  },
  {
   "cell_type": "code",
   "execution_count": 71,
   "metadata": {},
   "outputs": [
    {
     "data": {
      "text/plain": [
       "['Reports_Run_3299/E5XX-1111_Print_1486627744_Exceptions.XML',\n",
       " 'Reports_Run_3299/E5XX-1111_Survey_Source[10](AAAOZPZ).XML',\n",
       " 'Reports_Run_3299/E5XX-1111_Survey_Source[11](AAAOZP0).XML',\n",
       " 'Reports_Run_3299/E5XX-1111_Survey_Source[12](AAAOZP1).XML']"
      ]
     },
     "execution_count": 71,
     "metadata": {},
     "output_type": "execute_result"
    }
   ],
   "source": [
    "from glob import glob\n",
    "xml_files = glob(DATADIRECTORY+'/*.XML')\n",
    "xml_files[1:5]"
   ]
  },
  {
   "cell_type": "code",
   "execution_count": 72,
   "metadata": {},
   "outputs": [
    {
     "name": "stdout",
     "output_type": "stream",
     "text": [
      "{'cat': 'meow', 'dog': 'woof'}\n",
      "2\n"
     ]
    }
   ],
   "source": [
    "dict = {}\n",
    "dict['cat'] = 'meow'\n",
    "dict['dog'] = 'woof'\n",
    "print(dict)\n",
    "print(len(dict.keys()))"
   ]
  },
  {
   "cell_type": "code",
   "execution_count": 80,
   "metadata": {},
   "outputs": [
    {
     "ename": "TypeError",
     "evalue": "'dict' object is not callable",
     "output_type": "error",
     "traceback": [
      "\u001b[0;31m---------------------------------------------------------------------------\u001b[0m",
      "\u001b[0;31mTypeError\u001b[0m                                 Traceback (most recent call last)",
      "\u001b[0;32m<ipython-input-80-865b3960fe2d>\u001b[0m in \u001b[0;36m<module>\u001b[0;34m()\u001b[0m\n\u001b[1;32m     11\u001b[0m     \u001b[0min_well_transfer_state\u001b[0m \u001b[0;34m=\u001b[0m \u001b[0;32mFalse\u001b[0m\u001b[0;34m\u001b[0m\u001b[0m\n\u001b[1;32m     12\u001b[0m     \u001b[0mcurrent_active_well\u001b[0m \u001b[0;34m=\u001b[0m \u001b[0;32mNone\u001b[0m\u001b[0;34m\u001b[0m\u001b[0m\n\u001b[0;32m---> 13\u001b[0;31m     \u001b[0mwell_info\u001b[0m \u001b[0;34m=\u001b[0m \u001b[0mdict\u001b[0m\u001b[0;34m(\u001b[0m\u001b[0;34m[\u001b[0m\u001b[0;34m(\u001b[0m\u001b[0;34m'sape'\u001b[0m\u001b[0;34m,\u001b[0m \u001b[0;36m4139\u001b[0m\u001b[0;34m)\u001b[0m\u001b[0;34m,\u001b[0m \u001b[0;34m(\u001b[0m\u001b[0;34m'guido'\u001b[0m\u001b[0;34m,\u001b[0m \u001b[0;36m4127\u001b[0m\u001b[0;34m)\u001b[0m\u001b[0;34m,\u001b[0m \u001b[0;34m(\u001b[0m\u001b[0;34m'jack'\u001b[0m\u001b[0;34m,\u001b[0m \u001b[0;36m4098\u001b[0m\u001b[0;34m)\u001b[0m\u001b[0;34m]\u001b[0m\u001b[0;34m)\u001b[0m\u001b[0;34m\u001b[0m\u001b[0m\n\u001b[0m\u001b[1;32m     14\u001b[0m     \u001b[0;32mfor\u001b[0m \u001b[0mline\u001b[0m \u001b[0;32min\u001b[0m \u001b[0mfh\u001b[0m\u001b[0;34m:\u001b[0m \u001b[0;31m# file (text mode) opens as an iterable, split by lines\u001b[0m\u001b[0;34m\u001b[0m\u001b[0m\n\u001b[1;32m     15\u001b[0m         \u001b[0mlinedata\u001b[0m \u001b[0;34m=\u001b[0m \u001b[0mline\u001b[0m\u001b[0;34m.\u001b[0m\u001b[0msplit\u001b[0m\u001b[0;34m(\u001b[0m\u001b[0;34m)\u001b[0m\u001b[0;34m\u001b[0m\u001b[0m\n",
      "\u001b[0;31mTypeError\u001b[0m: 'dict' object is not callable"
     ]
    }
   ],
   "source": [
    "# \"regular expressions\"\n",
    "# SEE http://pythex.org/\n",
    "# SEE https://developers.google.com/edu/python/regular-expressions\n",
    "well_begin = '.*DEBUG.*Well\\s*([a-zA-Z]+)(\\d+)\\s*begin.*' # captures well letter and number: P16 -> P,16\n",
    "# well_end = '.*INFO.*Well.*Transfer Complete.*' # just ends it for now\n",
    "well_end = '.*INFO.*Well\\s*<([a-zA-Z]+)(\\d+)\\s*->\\s*([a-zA-Z]+)(\\d+)\\W*([0-9\\.]+)\\s*(\\w+)\\s*>\\s*Transfer Complete.*' # fromLetter, fromNumber, toLetter, toNumber, vol, units\n",
    "well_data_line = '\\s*(.+)\\:\\s*([0-9\\.]+)\\s*(\\S+)' # Property key, value, units\n",
    "\n",
    "# this is what we'd like to avoid\n",
    "with open(DATAFILE, 'r') as fh:\n",
    "    in_well_transfer_state = False\n",
    "    current_active_well = None\n",
    "    well_info = dict()\n",
    "    for line in fh: # file (text mode) opens as an iterable, split by lines\n",
    "        linedata = line.split()\n",
    "        if not in_well_transfer_state:\n",
    "            match = re.match(well_begin, line)\n",
    "            if match:\n",
    "                in_well_transfer_state = True\n",
    "                current_active_well = tuple([match.group(1),int(match.group(2))])\n",
    "                well_info[current_active_well] = dict()\n",
    "                continue # go back to beginning of for loop\n",
    "        if in_well_transfer_state:\n",
    "            match = re.match(well_end, line)\n",
    "            if match:\n",
    "                well_from = (match.group(1),int(match.group(2)))\n",
    "                well_to = (match.group(3),int(match.group(4)))\n",
    "                volume = float(match.group(5))\n",
    "                unit = match.group(6)\n",
    "                well_info[current_active_well]['Transfer'] = {'from':well_from, 'to':well_to, 'volume':volume, 'unit':unit}\n",
    "                in_well_transfer_state = False\n",
    "                current_active_well = None # just to shake out errors\n",
    "                continue # continue at the top of the for loop\n",
    "            another_match = re.match(well_data_line, line)\n",
    "            if another_match:\n",
    "                prop = another_match.group(1)\n",
    "                value = float(another_match.group(2))\n",
    "                unit = another_match.group(3)\n",
    "                well_info[current_active_well][prop] = {'value': value, 'unit': unit}\n",
    "                \n",
    "print('Loaded {} wells'.format(len(well_info.keys())))"
   ]
  },
  {
   "cell_type": "code",
   "execution_count": null,
   "metadata": {
    "collapsed": true
   },
   "outputs": [],
   "source": []
  }
 ],
 "metadata": {
  "kernelspec": {
   "display_name": "Python 3",
   "language": "python",
   "name": "python3"
  },
  "language_info": {
   "codemirror_mode": {
    "name": "ipython",
    "version": 3
   },
   "file_extension": ".py",
   "mimetype": "text/x-python",
   "name": "python",
   "nbconvert_exporter": "python",
   "pygments_lexer": "ipython3",
   "version": "3.6.1"
  }
 },
 "nbformat": 4,
 "nbformat_minor": 2
}
